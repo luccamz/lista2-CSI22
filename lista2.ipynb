{
 "cells": [
  {
   "attachments": {},
   "cell_type": "markdown",
   "metadata": {},
   "source": [
    "1. Criar uma função que remove todas as tuplas vazias de uma lista de tuplas"
   ]
  },
  {
   "cell_type": "code",
   "execution_count": 1,
   "metadata": {},
   "outputs": [],
   "source": [
    "def remove_empty(tuples):\n",
    "    return list(filter(lambda tp: tp != (), tuples))"
   ]
  },
  {
   "attachments": {},
   "cell_type": "markdown",
   "metadata": {},
   "source": [
    "2. Função que gera uma tupla de médias a partir de uma tupla de tuplas de números."
   ]
  },
  {
   "cell_type": "code",
   "execution_count": 2,
   "metadata": {},
   "outputs": [],
   "source": [
    "def averages (tuples):\n",
    "    return tuple([sum(tp)/len(tp) if tp != () else None for tp in tuples])"
   ]
  },
  {
   "attachments": {},
   "cell_type": "markdown",
   "metadata": {},
   "source": [
    "3. Função que retorna uma sublista de uma lista de strings daquelas que contêm somente caracteres alfanuméricos e não são vazias."
   ]
  },
  {
   "cell_type": "code",
   "execution_count": 9,
   "metadata": {},
   "outputs": [],
   "source": [
    "def filter_alfanumeric(strings):\n",
    "    return list(filter(lambda string: string.isalnum(), strings))"
   ]
  },
  {
   "attachments": {},
   "cell_type": "markdown",
   "metadata": {},
   "source": [
    "4. Função que verifica se todos os caracteres de um string estão presentes em dado outro string."
   ]
  },
  {
   "cell_type": "code",
   "execution_count": 4,
   "metadata": {},
   "outputs": [],
   "source": [
    "def contains(super_str, sub_str):\n",
    "    return all([c in super_str for c in sub_str])"
   ]
  },
  {
   "attachments": {},
   "cell_type": "markdown",
   "metadata": {},
   "source": [
    "5. Função que multiplica duas matrizes (listas de vetores linha)"
   ]
  },
  {
   "cell_type": "code",
   "execution_count": 5,
   "metadata": {},
   "outputs": [],
   "source": [
    "def matmult(A, B):\n",
    "    if any([len(B) != len(u) for u in A]+[len(A) == 0 and len(B) != 0]):\n",
    "        raise IndexError(\"As matrizes possuem formatos incompativeis\")\n",
    "    if any([len(B[0]) != len(v) for v in B]):\n",
    "        raise AssertionError(\"Matriz com linhas de tamanhos diferentes\")\n",
    "    \n",
    "    result = [[0.]*len(B[0]) for l in A]\n",
    "    for i in range(len(A)):\n",
    "        for j in range(len(B[0])):\n",
    "            for k in range(len(B)):\n",
    "                result[i][j] += A[i][k]*B[k][j]\n",
    "    return result"
   ]
  },
  {
   "attachments": {},
   "cell_type": "markdown",
   "metadata": {},
   "source": [
    "6. Função que retorna um iterador que percorre uma lista em ordem inversa"
   ]
  },
  {
   "cell_type": "code",
   "execution_count": 12,
   "metadata": {},
   "outputs": [],
   "source": [
    "def reverse_iterator(lista):\n",
    "    index = len(lista) - 1\n",
    "    \n",
    "    while index >= 0:\n",
    "        yield lista[index]\n",
    "        index -= 1"
   ]
  },
  {
   "attachments": {},
   "cell_type": "markdown",
   "metadata": {},
   "source": [
    "7. Lista de todos os primos."
   ]
  },
  {
   "cell_type": "code",
   "execution_count": 13,
   "metadata": {},
   "outputs": [],
   "source": [
    "def primes():\n",
    "    p = 2\n",
    "    past_primes = [p]\n",
    "    n_sqrt = 1\n",
    "    while True:\n",
    "        yield p\n",
    "        next = p + 1\n",
    "        while any([next%p == 0 for p in past_primes[0:n_sqrt]]):\n",
    "            next += 1\n",
    "            if past_primes[n_sqrt]**2 <= next:\n",
    "                n_sqrt += 1\n",
    "        past_primes.append(next)\n",
    "        p = next"
   ]
  },
  {
   "attachments": {},
   "cell_type": "markdown",
   "metadata": {},
   "source": [
    "8. Função que filtra números pares de uma lista de números."
   ]
  },
  {
   "cell_type": "code",
   "execution_count": 14,
   "metadata": {},
   "outputs": [],
   "source": [
    "def get_even(nums):\n",
    "    return list(filter(lambda n: n%2 == 0, nums))"
   ]
  },
  {
   "attachments": {},
   "cell_type": "markdown",
   "metadata": {},
   "source": [
    "9. Função que aplica mapa às linhas de uma matriz (assume-se entrada na forma de lista de vetores linha)."
   ]
  },
  {
   "cell_type": "code",
   "execution_count": 17,
   "metadata": {},
   "outputs": [],
   "source": [
    "def map_lines(mat, func):\n",
    "    return list(map(func, mat))"
   ]
  }
 ],
 "metadata": {
  "kernelspec": {
   "display_name": "Python 3",
   "language": "python",
   "name": "python3"
  },
  "language_info": {
   "codemirror_mode": {
    "name": "ipython",
    "version": 3
   },
   "file_extension": ".py",
   "mimetype": "text/x-python",
   "name": "python",
   "nbconvert_exporter": "python",
   "pygments_lexer": "ipython3",
   "version": "3.10.6"
  },
  "orig_nbformat": 4
 },
 "nbformat": 4,
 "nbformat_minor": 2
}
